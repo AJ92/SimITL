{
 "cells": [
  {
   "cell_type": "code",
   "execution_count": 217,
   "metadata": {},
   "outputs": [
    {
     "ename": "TypeError",
     "evalue": "only size-1 arrays can be converted to Python scalars",
     "output_type": "error",
     "traceback": [
      "\u001b[1;31m---------------------------------------------------------------------------\u001b[0m",
      "\u001b[1;31mTypeError\u001b[0m                                 Traceback (most recent call last)",
      "Cell \u001b[1;32mIn[217], line 33\u001b[0m\n\u001b[0;32m     30\u001b[0m rpm1 \u001b[39m=\u001b[39m np\u001b[39m.\u001b[39mlinspace(\u001b[39m0\u001b[39m, maxRpm, \u001b[39mlen\u001b[39m(t))\n\u001b[0;32m     32\u001b[0m \u001b[39m#s1x = oscillation1f(1.0 * (t/time), rpmToHz((np.log(1 + time/(0.0001+t))) * 1.14  * rpm1),  0.1,             t)\u001b[39;00m\n\u001b[1;32m---> 33\u001b[0m s1x \u001b[39m=\u001b[39m oscillation1f(\u001b[39m1.0\u001b[39;49m, maxRpm, amp)\n\u001b[0;32m     35\u001b[0m \u001b[39m# create a transient \"chirp\"\u001b[39;00m\n\u001b[0;32m     36\u001b[0m \u001b[39m#s1[t <= 0.58] = s1[0.6 <= t] = 0\u001b[39;00m\n\u001b[0;32m     37\u001b[0m \n\u001b[0;32m     38\u001b[0m \u001b[39m# add some noise into the mix\u001b[39;00m\n\u001b[0;32m     39\u001b[0m nse1 \u001b[39m=\u001b[39m \u001b[39m0.1\u001b[39m \u001b[39m*\u001b[39m np\u001b[39m.\u001b[39mrandom\u001b[39m.\u001b[39mrandom(size\u001b[39m=\u001b[39m\u001b[39mlen\u001b[39m(t))\n",
      "Cell \u001b[1;32mIn[217], line 13\u001b[0m, in \u001b[0;36moscillation1f\u001b[1;34m(amplitude, frequencyHz, dt)\u001b[0m\n\u001b[0;32m     11\u001b[0m \u001b[39mdef\u001b[39;00m \u001b[39moscillation1f\u001b[39m(amplitude, frequencyHz, dt):\n\u001b[0;32m     12\u001b[0m   phaseShift \u001b[39m=\u001b[39m dt \u001b[39m*\u001b[39m math\u001b[39m.\u001b[39mpi \u001b[39m*\u001b[39m \u001b[39m2.0\u001b[39m\n\u001b[1;32m---> 13\u001b[0m   \u001b[39mreturn\u001b[39;00m amplitude \u001b[39m*\u001b[39m math\u001b[39m.\u001b[39;49msin(\u001b[39m2.0\u001b[39;49m \u001b[39m*\u001b[39;49m math\u001b[39m.\u001b[39;49mpi \u001b[39m+\u001b[39;49m phaseShift)\n",
      "\u001b[1;31mTypeError\u001b[0m: only size-1 arrays can be converted to Python scalars"
     ]
    }
   ],
   "source": [
    "import math\n",
    "import matplotlib.pyplot as plt\n",
    "import matplotlib.mlab as mlab\n",
    "import numpy as np\n",
    "\n",
    "dataList = []\n",
    "\n",
    "def rpmToHz(rpm):\n",
    "  return rpm / 60.0\n",
    "\n",
    "def oscillation1f(amplitude, frequencyHz, dt):\n",
    "  phaseShift = dt * np.pi * 2.0\n",
    "  return amplitude * np.sin(2.0 * np.pi + phaseShift)\n",
    "\n",
    "\n",
    "# Fixing random state for reproducibility\n",
    "np.random.seed(19680801)\n",
    "\n",
    "frequency = 1e3\n",
    "delta = 1e6 / frequency\n",
    "\n",
    "dt = delta / 1e6\n",
    "\n",
    "time = 2\n",
    "maxRpm = 32000\n",
    "\n",
    "t = np.arange(0.0, time, dt)\n",
    "\n",
    "amp = np.linspace(0, 1, len(t))\n",
    "rpm1 = np.linspace(0, maxRpm, len(t))\n",
    "\n",
    "#s1x = oscillation1f(1.0 * (t/time), rpmToHz((np.log(1 + time/(0.0001+t))) * 1.14  * rpm1),  0.1,             t)\n",
    "s1x = oscillation1f(1.0, maxRpm, amp)\n",
    "\n",
    "# create a transient \"chirp\"\n",
    "#s1[t <= 0.58] = s1[0.6 <= t] = 0\n",
    "\n",
    "# add some noise into the mix\n",
    "nse1 = 0.1 * np.random.random(size=len(t))\n",
    "\n",
    "x = s1x# + nse1\n",
    "\n",
    "NFFT = 256  # the length of the windowing segments\n",
    "Fs = 1/dt  # the sampling frequency\n",
    "\n",
    "fig, (ax1, ax2) = plt.subplots(nrows=2, sharex=True, figsize=(10, 15))\n",
    "ax1.plot(t, x)\n",
    "ax1.set_ylabel('Signal')\n",
    "\n",
    "Pxx, freqs, bins, im = ax2.specgram(x, NFFT=NFFT, Fs=Fs, mode='psd')\n",
    "# The `specgram` method returns 4 objects. They are:\n",
    "# - Pxx: the periodogram\n",
    "# - freqs: the frequency vector\n",
    "# - bins: the centers of the time bins\n",
    "# - im: the .image.AxesImage instance representing the data in the plot\n",
    "ax2.set_xlabel('Time (s)')\n",
    "ax2.set_ylabel('Frequency (Hz)')\n",
    "ax2.set_xlim(0, time)\n",
    "ax2.set_ylim(0, 500)\n",
    "\n",
    "plt.show()"
   ]
  }
 ],
 "metadata": {
  "kernelspec": {
   "display_name": "Python 3",
   "language": "python",
   "name": "python3"
  },
  "language_info": {
   "codemirror_mode": {
    "name": "ipython",
    "version": 3
   },
   "file_extension": ".py",
   "mimetype": "text/x-python",
   "name": "python",
   "nbconvert_exporter": "python",
   "pygments_lexer": "ipython3",
   "version": "3.11.1"
  },
  "orig_nbformat": 4
 },
 "nbformat": 4,
 "nbformat_minor": 2
}
