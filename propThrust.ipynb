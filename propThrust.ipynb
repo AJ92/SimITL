{
 "cells": [
  {
   "cell_type": "code",
   "execution_count": 19,
   "metadata": {},
   "outputs": [],
   "source": [
    "import matplotlib.pyplot as plt\n",
    "import numpy as np\n",
    "import math\n",
    "\n",
    "M_PI = 3.14159265358979\n",
    "\n",
    "propThrustFactor_x = -0.002403361\n",
    "propThrustFactor_y = -0.1119465\n",
    "propThrustFactor_z = 6.53844\n",
    "maxRPM = 24000\n",
    "propA = 0.0000000157\n",
    "propTorqFactor = 0.01\n",
    "propInertia = 1.513e-06\n",
    "#propInertia = 8.13e-06\n",
    "\n",
    "motorKV = 2800\n",
    "motorR = 0.15\n",
    "motorI0 = 0.15\n",
    "\n",
    "vbat = 16.0\n",
    "\n",
    "\n",
    "factor = 60"
   ]
  },
  {
   "cell_type": "code",
   "execution_count": 22,
   "metadata": {},
   "outputs": [
    {
     "data": {
      "image/png": "[encoded data removed]",
      "text/plain": [
       "<Figure size 640x480 with 1 Axes>"
      ]
     },
     "metadata": {},
     "output_type": "display_data"
    }
   ],
   "source": [
    "\n",
    "def prop_thrust(rpm, vel):\n",
    "  # max thrust vs velocity:\n",
    "  propF = propThrustFactor_x * vel * vel + propThrustFactor_y * vel + propThrustFactor_z\n",
    "  propF = max(0.0, propF)\n",
    "\n",
    "  # thrust vs rpm (and max thrust)\n",
    "  b = (propF - propA * maxRPM * maxRPM) / maxRPM\n",
    "  result = b * rpm + propA * rpm * rpm\n",
    "\n",
    "  return  max(result, 0.0)\n",
    "\n",
    "\n",
    "\n",
    "def prop_torque(rpm, vel):\n",
    "  return prop_thrust(rpm, vel) * propTorqFactor\n",
    "\n",
    "\n",
    "\n",
    "def motor_torque(volts, rpm):\n",
    "  current = (volts - (rpm / motorKV)) / motorR\n",
    "\n",
    "  if (current > 0):\n",
    "    current = max(0.0, current - motorI0)\n",
    "  elif (current < 0):\n",
    "    current = min(0.0, current + motorI0)\n",
    "  return current * factor / (motorKV * 2.0 * M_PI)\n",
    "\n",
    "\n",
    "\n",
    "def clamp(n, smallest, largest): return max(smallest, min(n, largest))\n",
    "\n",
    "\n",
    "\n",
    "rpmList = []\n",
    "ptorqueList = []\n",
    "\n",
    "current_rpm = 0\n",
    "\n",
    "for t in range(0, 1000):\n",
    "\n",
    "  #pwm = 1000.0 + (t / 10.0)\n",
    "  pwm  = t * 1 + 1000\n",
    "\n",
    "  if (pwm > 2000):\n",
    "    pwm = 2000\n",
    "\n",
    "\n",
    "\n",
    "  rpm = current_rpm\n",
    "\n",
    "  volts = pwm / 1000.0 * vbat\n",
    "  \n",
    "  mtorque = motor_torque(volts, rpm)\n",
    "\n",
    "  ptorque = prop_torque(rpm, 0)\n",
    "  nettorque = mtorque - ptorque\n",
    "  domega = nettorque / propInertia\n",
    "\n",
    "  freq = 10e3\n",
    "  DELTA = 1e6 / freq\n",
    "  dt = DELTA / 1e6\n",
    "\n",
    "  drpm = (domega * dt) * factor / (2.0 * M_PI)\n",
    "\n",
    "  maxdrpm = abs(volts * motorKV - rpm)\n",
    "  rpm += clamp(drpm, -maxdrpm, maxdrpm)\n",
    "\n",
    "  current_rpm = rpm\n",
    "\n",
    "  rpmList.append(rpm)  \n",
    "  ptorqueList.append(ptorque)\n",
    "\n",
    "\n",
    "rpmPoints = np.array(rpmList)\n",
    "ptorquePoints = np.array(ptorqueList)\n",
    "\n",
    "\n",
    "plt.plot(rpmPoints, color = \"r\")\n",
    "plt.plot(ptorquePoints, color = \"g\")\n",
    "\n",
    "plt.show() "
   ]
  }
 ],
 "metadata": {
  "kernelspec": {
   "display_name": "Python 3",
   "language": "python",
   "name": "python3"
  },
  "language_info": {
   "codemirror_mode": {
    "name": "ipython",
    "version": 3
   },
   "file_extension": ".py",
   "mimetype": "text/x-python",
   "name": "python",
   "nbconvert_exporter": "python",
   "pygments_lexer": "ipython3",
   "version": "3.11.1"
  },
  "orig_nbformat": 4,
  "vscode": {
   "interpreter": {
    "hash": "28a5954f2576ddd487b1ea46a8b5f3572c29a16d5be4c3423d1866fd377d3e2f"
   }
  }
 },
 "nbformat": 4,
 "nbformat_minor": 2
}
