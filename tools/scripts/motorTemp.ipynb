{
 "cells": [
  {
   "cell_type": "code",
   "execution_count": 2,
   "metadata": {},
   "outputs": [],
   "source": [
    "import math\n",
    "import matplotlib.pyplot as plt\n",
    "import matplotlib.mlab as mlab\n",
    "import numpy as np\n",
    "\n",
    "# calc & draw\n",
    "\n",
    "def interpolate(x, y, i):\n",
    "  return x * (1.0 - i) + y * i\n",
    "\n",
    "def clamp(x, min, max):\n",
    "  if (x < min):\n",
    "    return min\n",
    "  if (x > max):\n",
    "    return max\n",
    "  return x\n",
    "\n",
    "def max(a, b):\n",
    "  if(a > b):\n",
    "    return a\n",
    "  return b"
   ]
  },
  {
   "cell_type": "code",
   "execution_count": 8,
   "metadata": {},
   "outputs": [
    {
     "name": "stdout",
     "output_type": "stream",
     "text": [
      "0.0034104630662549003\n"
     ]
    }
   ],
   "source": [
    "# constants\n",
    "vbat = 26.0\n",
    "mass = 0.033\n",
    "motorR = 0.122\n",
    "\n",
    "motorRth = 0.2\n",
    "motorCth = 100.0\n",
    "\n",
    "#h: aluminium conductivity\n",
    "#A: surface area\n",
    "#C: thermal capacity\n",
    "#motorKth = h * A(1606) / C\n",
    "print(240/(2*math.pi*8*(8+6))/motorCth)\n",
    "\n",
    "ambientTemp = 24.0\n",
    "\n"
   ]
  },
  {
   "cell_type": "code",
   "execution_count": null,
   "metadata": {},
   "outputs": [],
   "source": [
    "\n",
    "def oscillation1f(amplitude, frequencyHz, t, phaseShift = 0):\n",
    "  return amplitude * np.sin(2.0 * np.pi * frequencyHz * t + phaseShift)\n",
    "\n",
    "def setArray(arr, startIndex, endIndex, value):\n",
    "  l = len(arr)\n",
    "  for i in range(0, l):\n",
    "    if i >= startIndex and i < endIndex:\n",
    "      arr[i] = value\n",
    "\n",
    "def motorTemp(ampDrawArray, dt):\n",
    "  tempList = []\n",
    "\n",
    "  currentTemp = ambientTemp\n",
    "\n",
    "  for amps in np.nditer(ampDrawArray):\n",
    "    #P = I^2 * R\n",
    "    powerDraw = amps * amps * motorR\n",
    "\n",
    "    # heat \n",
    "    currentTemp += (powerDraw - (currentTemp - ambientTemp) / motorRth) / motorCth  * dt\n",
    "    \n",
    "    tempList.append(currentTemp)\n",
    "  \n",
    "  return np.array(tempList)\n",
    "\n",
    "\n",
    "frequency = 100#20e3\n",
    "delta = 1e6 / frequency\n",
    "\n",
    "dt = delta / 1e6\n",
    "\n",
    "time = 120\n",
    "\n",
    "t = np.arange(0, time, dt)\n",
    "\n",
    "amps = oscillation1f(50.0, 0.04, t, 0) + 50\n",
    "\n",
    "setArray(amps, time/dt/2, time/dt, 0)\n",
    "\n",
    "temp = motorTemp(amps, dt)\n",
    "\n",
    "\n",
    "fig, (ax1) = plt.subplots(nrows=1, sharex=True, figsize=(10, 5))\n",
    "\n",
    "#constant discharge\n",
    "#ax1.plot(t, tInv, label = '%.2f mAh' % capacity)\n",
    "ax1.plot(t, temp, label = 'max temp %.2f°C' % np.max(temp))\n",
    "ax1.plot(t, amps, label = 'max amps %.2fA' % np.max(amps))\n",
    "ax1.legend()\n",
    "ax1.set_xlabel('Time')\n",
    "ax1.set_ylabel('Temp')\n",
    "\n",
    "\n",
    "plt.show()"
   ]
  }
 ],
 "metadata": {
  "kernelspec": {
   "display_name": "Python 3",
   "language": "python",
   "name": "python3"
  },
  "language_info": {
   "codemirror_mode": {
    "name": "ipython",
    "version": 3
   },
   "file_extension": ".py",
   "mimetype": "text/x-python",
   "name": "python",
   "nbconvert_exporter": "python",
   "pygments_lexer": "ipython3",
   "version": "3.11.1"
  },
  "orig_nbformat": 4
 },
 "nbformat": 4,
 "nbformat_minor": 2
}
